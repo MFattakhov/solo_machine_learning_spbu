{
 "cells": [
  {
   "cell_type": "markdown",
   "metadata": {},
   "source": [
    "### Исследование по оценке работы алгоритмов линейной, полиномиальной регрессий для данных, представимых в виде полиномиальной или экпоненциальной функций"
   ]
  },
  {
   "cell_type": "markdown",
   "metadata": {},
   "source": [
    "---\n",
    "#### Генерация данных"
   ]
  },
  {
   "cell_type": "markdown",
   "id": "burning-colors",
   "metadata": {},
   "source": [
    "Данные будем генерировать при помощи встроенного в numpy класса `Polynomial`"
   ]
  },
  {
   "cell_type": "markdown",
   "metadata": {},
   "source": [
    "Для полиномов:\n",
    "```cpp\n",
    "p = Polynomial(coeffs[::-1], domain=domain, window=domain)\n",
    "xdata['deg 1'], ydata['poly'] = p.linspace(N)\n",
    "```"
   ]
  },
  {
   "cell_type": "markdown",
   "metadata": {},
   "source": [
    "Для экпоненциальных функций:\n",
    "```python\n",
    "def exp_func(p: Polynomial, c: float, N: int = N) -> np.ndarray:\n",
    "    return np.exp(p.linspace(N)[1]) + c\n",
    "```"
   ]
  },
  {
   "cell_type": "markdown",
   "metadata": {},
   "source": [
    "Генериуем <b>N</b> равномерно расположенных на области определения точек"
   ]
  },
  {
   "cell_type": "markdown",
   "metadata": {},
   "source": [
    "Для правдоподобности добавляем шум в сгенерированные данные:\n",
    "```cpp\n",
    "noize = np.random.normal(size=N, scale=np.mean(abs(ydata['poly']))/4)\n",
    "ydata_noized = ydata['poly'] + noize\n",
    "```"
   ]
  },
  {
   "cell_type": "markdown",
   "metadata": {},
   "source": [
    "---\n",
    "#### Обучение"
   ]
  },
  {
   "cell_type": "markdown",
   "metadata": {},
   "source": [
    "Для обучения используем линейную регрессию, `PolynomialFeatures`, `FunctionTransformer` из пакета `sklearn`"
   ]
  },
  {
   "cell_type": "markdown",
   "metadata": {},
   "source": [
    "Для полиномов 1 степени:\n",
    "```cpp\n",
    "reg[i] = LinearRegression().fit(xdata[i], ydata[k])\n",
    "```"
   ]
  },
  {
   "cell_type": "markdown",
   "metadata": {},
   "source": [
    "Для полиномов степеней 2 - 4:\n",
    "```cpp\n",
    "degs[i] = PolynomialFeatures(degree=j)\n",
    "xdata[i] = degs[i].fit_transform(xdata['deg 1'])\n",
    "reg[i] = LinearRegression().fit(xdata[i], ydata[k])\n",
    "```"
   ]
  },
  {
   "cell_type": "markdown",
   "metadata": {},
   "source": [
    "Для экспоненциальных функций\n",
    "```cpp\n",
    "xy = pd.DataFrame({'x': xdata['deg 1'][:, 0], 'y': ydata_noized})\n",
    "xy = xy[xy['y'] > 0]\n",
    "trans = FunctionTransformer(np.log, validate=True)\n",
    "ydata['exp'] = trans.fit_transform(np.array(xy['y']).reshape(-1, 1))\n",
    "xdata['exp'] = np.array(xy['x']).reshape(-1, 1)\n",
    "reg['exp'] = LinearRegression().fit(xdata['exp'], ydata['exp'])\n",
    "new_y['exp'] = np.exp(reg['exp'].predict(new_x['exp']))[:, 0]\n",
    "```"
   ]
  },
  {
   "cell_type": "markdown",
   "metadata": {},
   "source": [
    "---\n",
    "#### Оценка работы"
   ]
  },
  {
   "cell_type": "markdown",
   "metadata": {},
   "source": [
    "Для оценки работы используем коэффициент детерминации"
   ]
  },
  {
   "cell_type": "markdown",
   "metadata": {},
   "source": [
    "$R^2=1-\\frac{V(y|x)}{V(y)}=1-\\frac{\\sigma^{2}}{\\sigma_{y}^{2}}$"
   ]
  },
  {
   "cell_type": "markdown",
   "metadata": {},
   "source": [
    "Где $V(y|x)=\\sigma^2$ - дисперсия случайной ошибки модели"
   ]
  },
  {
   "cell_type": "markdown",
   "metadata": {},
   "source": [
    "Получаем его при помощи функции из библиотеки `sklearn`\n",
    "```cpp\n",
    "r2[i] = r2_score(ydata_noized, reg[i].predict(xdata[i]))\n",
    "```"
   ]
  },
  {
   "cell_type": "markdown",
   "metadata": {},
   "source": [
    "---\n",
    "#### Тесты"
   ]
  },
  {
   "cell_type": "markdown",
   "metadata": {},
   "source": [
    "##### Первый тест - полином 1 степени $\\frac{-x}{2} + \\footnotesize{3}$"
   ]
  },
  {
   "cell_type": "markdown",
   "metadata": {},
   "source": [
    "<img src=\"images/1_degree_poly_1_degree_fit.png\" alt=\"image\" width=\"49%\"/>\n",
    "<img src=\"images/1_degree_poly_2_degree_fit.png\" alt=\"image\" width=\"49%\"/>\n",
    "<img src=\"images/1_degree_poly_3_degree_fit.png\" alt=\"image\" width=\"49%\"/>\n",
    "<img src=\"images/1_degree_poly_4_degree_fit.png\" alt=\"image\" width=\"49%\"/>\n",
    "<img src=\"images/1_degree_poly_exp_fit.png\" alt=\"image\" width=\"49%\"/>\n",
    "<img src=\"images/1_degree_poly_all_together.png\" alt=\"image\" width=\"49%\"/>"
   ]
  },
  {
   "cell_type": "markdown",
   "metadata": {},
   "source": [
    "degree|$R^2$|\n",
    "-|:----:|\n",
    "1|0.9426711700857244|\n",
    "2|0.9426711700857245|\n",
    "3|0.9426711700857244|\n",
    "4|0.9426711700857136|\n",
    "exp|0.0850200696753181|"
   ]
  },
  {
   "cell_type": "markdown",
   "metadata": {},
   "source": [
    "##### Второй тест - полином 2 степени $\\frac{x^2}{20}-\\footnotesize{x}$"
   ]
  },
  {
   "cell_type": "markdown",
   "metadata": {},
   "source": [
    "<img src=\"images/2_degree_poly_1_degree_fit.png\" alt=\"image\" width=\"49%\"/>\n",
    "<img src=\"images/2_degree_poly_2_degree_fit.png\" alt=\"image\" width=\"49%\"/>\n",
    "<img src=\"images/2_degree_poly_3_degree_fit.png\" alt=\"image\" width=\"49%\"/>\n",
    "<img src=\"images/2_degree_poly_4_degree_fit.png\" alt=\"image\" width=\"49%\"/>\n",
    "<img src=\"images/2_degree_poly_exp_fit.png\" alt=\"image\" width=\"49%\"/>\n",
    "<img src=\"images/2_degree_poly_all_together.png\" alt=\"image\" width=\"49%\"/>"
   ]
  },
  {
   "cell_type": "markdown",
   "metadata": {},
   "source": [
    " degree|$R^2$|\n",
    "-|:----:|\n",
    "1|0.901020005632132\n",
    "2|0.968224851751847\n",
    "3|0.968224851751847\n",
    "4|0.968224851751846\n",
    "exp|0.669329407932745"
   ]
  },
  {
   "cell_type": "markdown",
   "metadata": {},
   "source": [
    "##### Третий тест - полином 3 степени $\\frac{x^3}{20}-\\frac{3x^2}{50}-\\footnotesize{4x}$"
   ]
  },
  {
   "cell_type": "markdown",
   "metadata": {},
   "source": [
    "<img src=\"images/3_degree_poly_1_degree_fit.png\" alt=\"image\" width=\"49%\"/>\n",
    "<img src=\"images/3_degree_poly_2_degree_fit.png\" alt=\"image\" width=\"49%\"/>\n",
    "<img src=\"images/3_degree_poly_3_degree_fit.png\" alt=\"image\" width=\"49%\"/>\n",
    "<img src=\"images/3_degree_poly_4_degree_fit.png\" alt=\"image\" width=\"49%\"/>\n",
    "<img src=\"images/3_degree_poly_exp_fit.png\" alt=\"image\" width=\"49%\"/>\n",
    "<img src=\"images/3_degree_poly_all_together.png\" alt=\"image\" width=\"49%\"/>"
   ]
  },
  {
   "cell_type": "markdown",
   "metadata": {},
   "source": [
    " degree|$R^2$|\n",
    "-|:----:|\n",
    "1|0.104663666506075\n",
    "2|0.127916030797361\n",
    "3|0.961163381723431\n",
    "4|0.961163381723420\n",
    "exp|0.087462128260766"
   ]
  },
  {
   "cell_type": "markdown",
   "metadata": {},
   "source": [
    "##### Четвертый тест - полином 4 степени $\\frac{x^4}{160} + \\frac{x^3}{20} -\\frac{3x^2}{5} -\\footnotesize{x}$"
   ]
  },
  {
   "cell_type": "markdown",
   "metadata": {},
   "source": [
    "<img src=\"images/4_degree_poly_1_degree_fit.png\" alt=\"image\" width=\"49%\"/>\n",
    "<img src=\"images/4_degree_poly_2_degree_fit.png\" alt=\"image\" width=\"49%\"/>\n",
    "<img src=\"images/4_degree_poly_3_degree_fit.png\" alt=\"image\" width=\"49%\"/>\n",
    "<img src=\"images/4_degree_poly_4_degree_fit.png\" alt=\"image\" width=\"49%\"/>\n",
    "<img src=\"images/4_degree_poly_exp_fit.png\" alt=\"image\" width=\"49%\"/>\n",
    "<img src=\"images/4_degree_poly_all_together.png\" alt=\"image\" width=\"49%\"/>"
   ]
  },
  {
   "cell_type": "markdown",
   "metadata": {},
   "source": [
    " degree|$R^2$|\n",
    "-|:----:|\n",
    "1|0.5784239365423052\n",
    "2|0.5786838634695093\n",
    "3|0.8578833661112893\n",
    "4|0.9648199060313363\n",
    "exp|0.5178778886773503"
   ]
  },
  {
   "cell_type": "markdown",
   "metadata": {},
   "source": [
    "##### Пятый тест - экпоненциальный полином $e^{\\frac{x}{2}}$"
   ]
  },
  {
   "cell_type": "markdown",
   "metadata": {},
   "source": [
    "<img src=\"images/exp_poly_1_degree_fit.png\" alt=\"image\" width=\"49%\"/>\n",
    "<img src=\"images/exp_poly_2_degree_fit.png\" alt=\"image\" width=\"49%\"/>\n",
    "<img src=\"images/exp_poly_3_degree_fit.png\" alt=\"image\" width=\"49%\"/>\n",
    "<img src=\"images/exp_poly_4_degree_fit.png\" alt=\"image\" width=\"49%\"/>\n",
    "<img src=\"images/exp_poly_exp_fit.png\" alt=\"image\" width=\"49%\"/>\n",
    "<img src=\"images/exp_poly_all_together.png\" alt=\"image\" width=\"49%\"/>"
   ]
  },
  {
   "cell_type": "markdown",
   "metadata": {},
   "source": [
    " degree|$R^2$|\n",
    "-|:----:|\n",
    "1|0.1286213775005266\n",
    "2|0.3070932667583635\n",
    "3|0.4969797279171785\n",
    "4|0.6664289716548277\n",
    "exp|0.8239630792765567"
   ]
  },
  {
   "cell_type": "markdown",
   "metadata": {},
   "source": [
    "---\n",
    "#### Выводы"
   ]
  },
  {
   "cell_type": "markdown",
   "metadata": {},
   "source": [
    "1. Регрессии высших степеней не переобучаются на данных со справедливым уровнем шума и выдают такие же результаты как и регрессия степени равной степени самой функции"
   ]
  },
  {
   "cell_type": "markdown",
   "metadata": {},
   "source": [
    "2. Линейная регрессия спокойно определяет полиномы любых степеней, если уровень шума в пределах справедливого"
   ]
  }
 ],
 "metadata": {
  "language_info": {
   "name": "python"
  },
  "orig_nbformat": 4
 },
 "nbformat": 4,
 "nbformat_minor": 2
}
