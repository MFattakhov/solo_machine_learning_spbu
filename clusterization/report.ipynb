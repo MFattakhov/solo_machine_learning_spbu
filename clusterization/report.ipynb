{
 "cells": [
  {
   "cell_type": "markdown",
   "metadata": {},
   "source": [
    "### Исследование по оценке работы алгоритмов Agglomerative Clustering и K-means"
   ]
  },
  {
   "cell_type": "markdown",
   "metadata": {},
   "source": [
    "---\n",
    "#### Данные"
   ]
  },
  {
   "cell_type": "markdown",
   "metadata": {},
   "source": [
    "Данные сгенерируем вручную, 8 разных тестов"
   ]
  },
  {
   "cell_type": "markdown",
   "metadata": {},
   "source": [
    "<img src=\"test1.png\" alt=\"image\" width=\"24.5%\"/>\n",
    "<img src=\"test2.png\" alt=\"image\" width=\"24.5%\"/>\n",
    "<img src=\"test3.png\" alt=\"image\" width=\"24.5%\"/>\n",
    "<img src=\"test4.png\" alt=\"image\" width=\"24.5%\"/>\n",
    "<img src=\"test5.png\" alt=\"image\" width=\"24.5%\"/>\n",
    "<img src=\"test6.png\" alt=\"image\" width=\"24.5%\"/>\n",
    "<img src=\"test7.png\" alt=\"image\" width=\"24.5%\"/>\n",
    "<img src=\"test8.png\" alt=\"image\" width=\"24.5%\"/>"
   ]
  },
  {
   "cell_type": "markdown",
   "metadata": {},
   "source": [
    "---\n",
    "#### Метод исследования"
   ]
  },
  {
   "cell_type": "markdown",
   "metadata": {},
   "source": [
    "Используем алгоритмы из пакета sklearn.<br/>\n",
    "- Разобьем батч $\\approx 8\\%$ от всех данных на два кластера при помощи аггломерации\n",
    "- Найдем центры каждого кластера\n",
    "- Если кластеры имеют смысл (расстояние между центрами достаточное и количество точек в кластерах не сильно отличаются друг от друга) проводим `k-means`"
   ]
  },
  {
   "cell_type": "markdown",
   "metadata": {},
   "source": [
    "---\n",
    "#### Тесты"
   ]
  },
  {
   "cell_type": "markdown",
   "metadata": {},
   "source": [
    "##### Первый тест"
   ]
  },
  {
   "cell_type": "markdown",
   "metadata": {},
   "source": [
    "<img src=\"test1.png\" alt=\"image\" width=\"49%\"/>\n",
    "<img src=\"test1_pred.png\" alt=\"image\" width=\"49%\"/>"
   ]
  },
  {
   "cell_type": "markdown",
   "metadata": {},
   "source": [
    "Два удаленных кластера - ничего интересного не произошло"
   ]
  },
  {
   "cell_type": "markdown",
   "metadata": {},
   "source": [
    "##### Второй тест"
   ]
  },
  {
   "cell_type": "markdown",
   "metadata": {},
   "source": [
    "<img src=\"test2.png\" alt=\"image\" width=\"49%\"/>\n",
    "<img src=\"test2_pred.png\" alt=\"image\" width=\"49%\"/>"
   ]
  },
  {
   "cell_type": "markdown",
   "metadata": {},
   "source": [
    "Два кластера - один вокруг другого<br/>\n",
    "В большинстве случаев центры кластеров оказываются достаточно близко, чтобы `k-means` не запускался\n",
    "\n",
    "Но если \"не повезет\" с батчем, может запустится k-means и мы получим бред\n",
    "<img src=\"test2_pred_bad.png\" alt=\"image\" width=\"49%\"/>"
   ]
  },
  {
   "cell_type": "markdown",
   "metadata": {},
   "source": [
    "##### Третий тест"
   ]
  },
  {
   "cell_type": "markdown",
   "metadata": {},
   "source": [
    "<img src=\"test3.png\" alt=\"image\" width=\"49%\"/>\n",
    "<img src=\"test3_pred.png\" alt=\"image\" width=\"49%\"/>"
   ]
  },
  {
   "cell_type": "markdown",
   "metadata": {},
   "source": [
    "Два кластера - две полоски, при ожидаемом числе кластеров = 2 получаем правильное разбиение"
   ]
  },
  {
   "cell_type": "markdown",
   "metadata": {},
   "source": [
    "<img src=\"test3_pred_N_3.png\" alt=\"image\" width=\"49%\"/>\n",
    "<img src=\"test3_pred_N_4.png\" alt=\"image\" width=\"49%\"/>"
   ]
  },
  {
   "cell_type": "markdown",
   "metadata": {},
   "source": [
    "Также я решил запустить для ожидаемых 3 и 4 кластеров<br/>\n",
    "Так мы можем убедиться в правильной работе k-means, который разбивает на классы объединяя в замкнутые фигуры"
   ]
  },
  {
   "cell_type": "markdown",
   "metadata": {},
   "source": [
    "##### Четвертый тест"
   ]
  },
  {
   "cell_type": "markdown",
   "metadata": {},
   "source": [
    "<img src=\"test4.png\" alt=\"image\" width=\"49%\"/>\n",
    "<img src=\"test4_pred.png\" alt=\"image\" width=\"49%\"/>"
   ]
  },
  {
   "cell_type": "markdown",
   "metadata": {},
   "source": [
    "Два накладывающихся кластера, центры оказываются далеко, запускается `k-means`, но он не разделяет кластеры"
   ]
  },
  {
   "cell_type": "markdown",
   "metadata": {},
   "source": [
    "Но если запустить `k-means` без центров от аггломерации, получим верное разделение\n",
    "\n",
    "<img src=\"test4_only_kmeans_pred.png\" alt=\"image\" width=\"49%\"/>"
   ]
  },
  {
   "cell_type": "markdown",
   "metadata": {},
   "source": [
    "##### Пятый тест"
   ]
  },
  {
   "cell_type": "markdown",
   "metadata": {},
   "source": [
    "<img src=\"test5.png\" alt=\"image\" width=\"49%\"/>\n",
    "<img src=\"test5_pred.png\" alt=\"image\" width=\"49%\"/>"
   ]
  },
  {
   "cell_type": "markdown",
   "metadata": {},
   "source": [
    "К сожалению, даже малое наложение \"мешает\" `k-means` с центрами разделить данные"
   ]
  },
  {
   "cell_type": "markdown",
   "metadata": {},
   "source": [
    "<img src=\"test5_only_kmeans_pred.png\" alt=\"image\" width=\"49%\"/>"
   ]
  },
  {
   "cell_type": "markdown",
   "metadata": {},
   "source": [
    "Но если запустить `k-means` без центров от аггломерации, получим верное разделение"
   ]
  },
  {
   "cell_type": "markdown",
   "metadata": {},
   "source": [
    "##### Шестой тест"
   ]
  },
  {
   "cell_type": "markdown",
   "metadata": {},
   "source": [
    "<img src=\"test6.png\" alt=\"image\" width=\"49%\"/>\n",
    "<img src=\"test6_pred.png\" alt=\"image\" width=\"49%\"/>"
   ]
  },
  {
   "cell_type": "markdown",
   "metadata": {},
   "source": [
    "Три касающихся кластера - по графику видно, что в этот раз \"не повезло\" с батчем, ниже приведен график при другом батче и при запуске `k-means` без предварительной кластеризации"
   ]
  },
  {
   "cell_type": "markdown",
   "metadata": {},
   "source": [
    "<img src=\"test6_pred_good.png\" alt=\"image\" width=\"49%\"/>\n",
    "<img src=\"test6_only_kmeans_pred.png\" alt=\"image\" width=\"49%\"/>"
   ]
  },
  {
   "cell_type": "markdown",
   "metadata": {},
   "source": [
    "##### Седьмой тест"
   ]
  },
  {
   "cell_type": "markdown",
   "metadata": {},
   "source": [
    "<img src=\"test7.png\" alt=\"image\" width=\"49%\"/>\n",
    "<img src=\"test7_pred.png\" alt=\"image\" width=\"49%\"/>"
   ]
  },
  {
   "cell_type": "markdown",
   "metadata": {},
   "source": [
    "Три далеко расположенных кластера - алгортм хорошо справляется"
   ]
  },
  {
   "cell_type": "markdown",
   "metadata": {},
   "source": [
    "##### Восьмой тест"
   ]
  },
  {
   "cell_type": "markdown",
   "metadata": {},
   "source": [
    "<img src=\"test8.png\" alt=\"image\" width=\"49%\"/>\n",
    "<img src=\"test8_pred.png\" alt=\"image\" width=\"49%\"/>"
   ]
  },
  {
   "cell_type": "markdown",
   "metadata": {},
   "source": [
    "Семь разделимых кластеров - происходит такая же проблема как и в шестом тесте"
   ]
  },
  {
   "cell_type": "markdown",
   "metadata": {},
   "source": [
    "<img src=\"test8_only_kmeans_pred.png\" alt=\"image\" width=\"49%\"/>"
   ]
  },
  {
   "cell_type": "markdown",
   "metadata": {},
   "source": [
    "Если запустить только `k-means` произойдет верное разделение"
   ]
  },
  {
   "cell_type": "markdown",
   "metadata": {},
   "source": [
    "---\n",
    "#### Вывод"
   ]
  },
  {
   "cell_type": "markdown",
   "metadata": {},
   "source": [
    "Данный метод хорошо работает на легко разделимых данных, как в тестах 1, 3, 7. Он позволяет значительно ускорить `k-means`<br/>\n",
    "Также он иногда определяет, когда использовать `k-means` неоправдванно (тест 2)<br/>\n",
    "Но для трудноразделимых данных этот метод совершенно не подходит, тесты 4 и 5 это наглядно показывают"
   ]
  }
 ],
 "metadata": {
  "interpreter": {
   "hash": "cfb225017eaa60033242ade7cd3aecd3095cd8c212fd294680e6df342bf262c4"
  },
  "kernelspec": {
   "display_name": "Python 3.9.1 64-bit",
   "language": "python",
   "name": "python3"
  },
  "language_info": {
   "name": "python",
   "version": "3.9.1"
  },
  "orig_nbformat": 4
 },
 "nbformat": 4,
 "nbformat_minor": 2
}
