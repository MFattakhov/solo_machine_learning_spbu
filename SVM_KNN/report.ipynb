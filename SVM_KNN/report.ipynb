{
 "cells": [
  {
   "cell_type": "markdown",
   "metadata": {},
   "source": [
    "### Исследование по оценке работы алгоритмов Linear SVM и KNN для трудноразделимых данных"
   ]
  },
  {
   "cell_type": "markdown",
   "metadata": {},
   "source": [
    "---\n",
    "##### Генерация данных"
   ]
  },
  {
   "cell_type": "markdown",
   "id": "burning-colors",
   "metadata": {},
   "source": [
    "Данные будем генерировать при помощи функции слуйчаного неравномерного распределения точек в окружности с трендом в центре (где одна окружность - один класс)"
   ]
  },
  {
   "cell_type": "markdown",
   "metadata": {},
   "source": [
    "```python\n",
    "def sqrt_uneven_dist(center: Tuple[float, float], radius: float) -> list[int]:\n",
    "    angle = np.random.rand() * 2 * np.pi\n",
    "    r = radius * np.random.rand()\n",
    "    return [r * np.cos(angle) + center[0], r * np.sin(angle) + center[1]]\n",
    "```"
   ]
  },
  {
   "cell_type": "markdown",
   "metadata": {},
   "source": [
    "<img src=\"uneven_dist.png\" alt=\"image\" width=\"500\"/>"
   ]
  },
  {
   "cell_type": "markdown",
   "id": "aging-wichita",
   "metadata": {},
   "source": [
    "Генерировать будем <i>N</i> случайных групп по 40 точек"
   ]
  },
  {
   "cell_type": "markdown",
   "metadata": {},
   "source": [
    "---\n",
    "##### Визуализация"
   ]
  },
  {
   "cell_type": "markdown",
   "metadata": {},
   "source": [
    "На графике:\n",
    "\n",
    "1. Обучающая выборка\n",
    "\n",
    "2. Окружности соответсвующих классов\n",
    "\n",
    "3. Сетка из точек, в цвет предположения моделей"
   ]
  },
  {
   "cell_type": "markdown",
   "metadata": {},
   "source": [
    "<img src=\"complicated_1_svm_small.png\" alt=\"image\" width=\"49%\"/>\n",
    "<img src=\"complicated_1_knn_small.png\" alt=\"image\" width=\"49%\"/>"
   ]
  },
  {
   "cell_type": "markdown",
   "metadata": {},
   "source": [
    "---\n",
    "##### Тесты"
   ]
  },
  {
   "cell_type": "markdown",
   "metadata": {},
   "source": [
    "Будем генерировать по $10^5$ новых точек в каждом классе, пропускать через модель и считать процент верно предсказанных"
   ]
  },
  {
   "cell_type": "markdown",
   "metadata": {},
   "source": [
    "№|validity SVM|validity KNN|\n",
    "-|:----:|:----:|\n",
    "1|0.7901|0.75685\n",
    "2|0.79035|0.77675\n",
    "3|0.98565|0.9829\n",
    "4|0.9578|0.9549\n",
    "5|0.8819|0.87115\n",
    "6|0.9997|0.99905"
   ]
  },
  {
   "cell_type": "markdown",
   "metadata": {},
   "source": [
    "<i>Первый тест - по картинкам сверху</i>"
   ]
  },
  {
   "cell_type": "markdown",
   "metadata": {},
   "source": [
    "Второй тест\n",
    "\n",
    "<img src=\"complicated_2_svm_small.png\" alt=\"image\" width=\"30%\"/>\n",
    "<img src=\"complicated_2_knn_small.png\" alt=\"image\" width=\"30%\"/>"
   ]
  },
  {
   "cell_type": "markdown",
   "metadata": {},
   "source": [
    "Третий тест\n",
    "\n",
    "<img src=\"complicated_3_svm_small.png\" alt=\"image\" width=\"30%\"/>\n",
    "<img src=\"complicated_3_knn_small.png\" alt=\"image\" width=\"30%\"/>"
   ]
  },
  {
   "cell_type": "markdown",
   "metadata": {},
   "source": [
    "Четвертый тест\n",
    "\n",
    "<img src=\"complicated_4_svm_small.png\" alt=\"image\" width=\"30%\"/>\n",
    "<img src=\"complicated_4_knn_small.png\" alt=\"image\" width=\"30%\"/>"
   ]
  },
  {
   "cell_type": "markdown",
   "metadata": {},
   "source": [
    "##### Вывод"
   ]
  },
  {
   "cell_type": "markdown",
   "metadata": {},
   "source": [
    "При такой постановке задачи SVM проявляет себя лучше во всех тестах, а значит, скорее всего, не хуже - при любой возможной ситуации."
   ]
  },
  {
   "cell_type": "markdown",
   "metadata": {},
   "source": []
  }
 ],
 "metadata": {
  "interpreter": {
   "hash": "cfb225017eaa60033242ade7cd3aecd3095cd8c212fd294680e6df342bf262c4"
  },
  "kernelspec": {
   "display_name": "Python 3",
   "language": "python",
   "name": "python3"
  },
  "language_info": {
   "codemirror_mode": {
    "name": "ipython",
    "version": 3
   },
   "file_extension": ".py",
   "mimetype": "text/x-python",
   "name": "python",
   "nbconvert_exporter": "python",
   "pygments_lexer": "ipython3",
   "version": "3.9.1"
  }
 },
 "nbformat": 4,
 "nbformat_minor": 2
}
